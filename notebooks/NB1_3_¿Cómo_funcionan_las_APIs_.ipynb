{
  "nbformat": 4,
  "nbformat_minor": 5,
  "metadata": {
    "kernelspec": {
      "display_name": "Python 3",
      "language": "python",
      "name": "python3"
    },
    "language_info": {
      "codemirror_mode": {
        "name": "ipython",
        "version": 3
      },
      "file_extension": ".py",
      "mimetype": "text/x-python",
      "name": "python",
      "nbconvert_exporter": "python",
      "pygments_lexer": "ipython3",
      "version": "3.8.2"
    },
    "colab": {
      "provenance": [],
      "collapsed_sections": [
        "2f7362a5",
        "n-925p7mfnao",
        "iGwqibfJgWwq"
      ]
    }
  },
  "cells": [
    {
      "cell_type": "markdown",
      "source": [
        "# Uso, interpretación y gestión de datos abiertos"
      ],
      "metadata": {
        "id": "8PtrxKJwVQLS"
      },
      "id": "8PtrxKJwVQLS"
    },
    {
      "cell_type": "markdown",
      "metadata": {
        "id": "de1519ce"
      },
      "source": [
        "\n",
        "\n",
        "El internet es la red informática más grande que existe. Nos permite interconectarnos a través de dispositivos como teléfonos, computadoras, tablets, entre otros. Estos elementos se conocen como *host* o *endpoints*. Estos usualmente se clasifican entre clientes y servidores.\n",
        "\n",
        "![Figure 1](https://upload.wikimedia.org/wikipedia/commons/thumb/c/c9/Client-server-model.svg/1200px-Client-server-model.svg.png)\n",
        "\n",
        "Los archivos relacionados con una página web están almacenados en un servidor y nuestras computadoras son los clientes que acceden a este recurso a través del internet. Estos se conectan a internet a través de los Proveedores de Servicio (Internet Service Providers).\n",
        "\n",
        "El intercambio de datos en internet se da a cabo con dispositivos intermediarios denominados conmutadores de paquetes o packet switches. Los routers son uno de los conmutadores de paquetes más conocidos.\n",
        "\n",
        "Describamos brevemente el proceso de intercambio de información de dos dispositivos conectados a internet. Consideremos que deseamos acceder a la página web del Tecnológico de Monterrey ubicada en`https://tec.mx/es`. Mi computadora deberá enviar una petición al servidor donde está alojada la página para acceder a tal información. Ambos dispositivos se identifican en la red de internet a través de identificadores especiales, direcciones IP (Internet Protocol por sus siglas en inglés). Los cuales están formados generalmente por una secuencia de 4 bytes.\n",
        "\n",
        "![Figure 2](https://www.ipxo.com/app/uploads/2021/09/IPv4-anatomy.png)\n",
        "\n",
        "Pero, yo no sé la dirección IP del servidor que tiene alojada la página web. El Domain Name System (DNS) es un sistema que nos permite asociar a cada hostname su respectiva dirección IP.\n",
        "\n",
        "Entonces, mi computadora integrará un mensaje que incluya su dirección física (MAC address), la dirección IP de destino y la petición. Este paquete llegará a través de la red local (Local Area Network) hasta el router. El router incluirá su dirección IP correspondiente, y enviará la petición a través del internet. El paquete recorrerá diferentes routers intermedios, los cuales redirigirán el mensaje hasta llegar al servidor. Finalmente, el mensaje llegará al servidor donde está almacenada la página web.\n",
        "\n",
        "![Figure 3](https://miro.medium.com/max/1400/1*Lm3WWTj1A0n1vMPN4LXx7g.png)\n",
        "\n",
        "El servidor entonces ubicará los archivos correspondientes (HTML, CSS, JS, Imágenes). La información total será dividida en pequeños paquetes (packets). El servidor enviará los paquetes de regreso a través de su router local, y navegará por el Internet hasta mi computadora. La secuencia de enlaces de comunicación y conmutadores de paquetes atravesados durante el envío formarán una ruta. Los paquetes no están obligados a seguir la misma ruta, sin embargo, todos deben llegar al destino final, en donde serán integrados para recuperar la información original y entonces mi navegador integrará los archivos correspondientes.\n",
        "\n",
        "El intercambio de datos debe llevarse de forma que todos seamos capaces de comunicarnos de forma satisfactoria, incluso debe permitir diseñar sistemas que puedan comunicarse entre sí de forma automática. Esto se logra adoptando protocolos y estándares. En las siguientes unidades revisaremos los protocolos TCP/IP y el HTTP.\n"
      ],
      "id": "de1519ce"
    },
    {
      "cell_type": "markdown",
      "metadata": {
        "id": "577a9ae0"
      },
      "source": [
        "\n",
        "### 1 Accediendo a Páginas Web con [`request`](https://pypi.org/project/requests/)\n",
        "\n",
        "El módulo externo `requests` permite realizar peticiones HTTP de una manera elegante y simple.\n",
        "\n",
        "Observemos el procedimiento para acceder al artículo de Python en Wikipedia [[1](https://en.wikipedia.org/wiki/Python_(programming_language))]."
      ],
      "id": "577a9ae0"
    },
    {
      "cell_type": "code",
      "metadata": {
        "id": "dec6eac3"
      },
      "source": [
        "import requests"
      ],
      "id": "dec6eac3",
      "execution_count": 1,
      "outputs": []
    },
    {
      "cell_type": "code",
      "metadata": {
        "id": "c0b0a0fb"
      },
      "source": [
        "# Accedemos a una pagina de Wikipedia que nos muestra info de python\n",
        "url = 'https://en.wikipedia.org/wiki/Python_(programming_language)'"
      ],
      "id": "c0b0a0fb",
      "execution_count": 2,
      "outputs": []
    },
    {
      "cell_type": "code",
      "metadata": {
        "id": "ST9EVio96hhZ"
      },
      "source": [
        "#Peticion a esta pagina para que me de el html que almacenamos aqui\n",
        "response = requests.get(url)"
      ],
      "id": "ST9EVio96hhZ",
      "execution_count": 3,
      "outputs": []
    },
    {
      "cell_type": "code",
      "source": [
        "# Status\n",
        "response.status_code"
      ],
      "metadata": {
        "id": "cxJ3YCQsZpVW",
        "colab": {
          "base_uri": "https://localhost:8080/"
        },
        "outputId": "e612b8ea-7cdc-434b-cb05-3c8b28d50952"
      },
      "id": "cxJ3YCQsZpVW",
      "execution_count": 4,
      "outputs": [
        {
          "output_type": "execute_result",
          "data": {
            "text/plain": [
              "403"
            ]
          },
          "metadata": {},
          "execution_count": 4
        }
      ]
    },
    {
      "cell_type": "code",
      "source": [
        "# Codificación\n",
        "response.encoding"
      ],
      "metadata": {
        "colab": {
          "base_uri": "https://localhost:8080/",
          "height": 35
        },
        "id": "zEWwT7-XZpah",
        "outputId": "7413adbf-d406-4e9a-e914-e19bb5fe0db7"
      },
      "id": "zEWwT7-XZpah",
      "execution_count": 5,
      "outputs": [
        {
          "output_type": "execute_result",
          "data": {
            "text/plain": [
              "'ISO-8859-1'"
            ],
            "application/vnd.google.colaboratory.intrinsic+json": {
              "type": "string"
            }
          },
          "metadata": {},
          "execution_count": 5
        }
      ]
    },
    {
      "cell_type": "code",
      "source": [
        "# Web Page Source Code\n",
        "data = response.content.decode()\n",
        "data"
      ],
      "metadata": {
        "colab": {
          "base_uri": "https://localhost:8080/",
          "height": 35
        },
        "id": "-C_R9HwYZpd6",
        "outputId": "5d74295e-a1da-4b23-81bc-59db71fe6b9f"
      },
      "id": "-C_R9HwYZpd6",
      "execution_count": 6,
      "outputs": [
        {
          "output_type": "execute_result",
          "data": {
            "text/plain": [
              "'Please set a user-agent and respect our robot policy https://w.wiki/4wJS. See also T400119.\\n'"
            ],
            "application/vnd.google.colaboratory.intrinsic+json": {
              "type": "string"
            }
          },
          "metadata": {},
          "execution_count": 6
        }
      ]
    },
    {
      "cell_type": "code",
      "source": [
        "type(data)"
      ],
      "metadata": {
        "colab": {
          "base_uri": "https://localhost:8080/"
        },
        "id": "cwqjBZVHLk0t",
        "outputId": "6f981a4b-52ed-4ea9-e157-e74b65441c04"
      },
      "id": "cwqjBZVHLk0t",
      "execution_count": 7,
      "outputs": [
        {
          "output_type": "execute_result",
          "data": {
            "text/plain": [
              "str"
            ]
          },
          "metadata": {},
          "execution_count": 7
        }
      ]
    },
    {
      "cell_type": "code",
      "source": [
        "# Web Page Source Code (Alternative)\n",
        "data = response.text\n",
        "data"
      ],
      "metadata": {
        "colab": {
          "base_uri": "https://localhost:8080/",
          "height": 35
        },
        "id": "gTHHPmgzZpmx",
        "outputId": "5b5143bd-1cd9-4c67-e03f-1f001fc74803"
      },
      "id": "gTHHPmgzZpmx",
      "execution_count": 8,
      "outputs": [
        {
          "output_type": "execute_result",
          "data": {
            "text/plain": [
              "'Please set a user-agent and respect our robot policy https://w.wiki/4wJS. See also T400119.\\n'"
            ],
            "application/vnd.google.colaboratory.intrinsic+json": {
              "type": "string"
            }
          },
          "metadata": {},
          "execution_count": 8
        }
      ]
    },
    {
      "cell_type": "markdown",
      "source": [
        "Ahora, accedamos al texto de Romeo y Julieta recuperado de Proyecto Gutemberg a partir del siguiente [enlace](https://www.gutenberg.org/files/1112/1112.txt)."
      ],
      "metadata": {
        "id": "QBiKHGkHaVLb"
      },
      "id": "QBiKHGkHaVLb"
    },
    {
      "cell_type": "code",
      "metadata": {
        "id": "xyLvmYaX70sE"
      },
      "source": [
        "# Accedemos a Project Gutemberg (Romeo and Juliet)\n",
        "url = 'https://www.gutenberg.org/files/1112/1112.txt'\n",
        "response = requests.get(url)\n",
        "\n",
        "#Al formato original que se recibe lo cambiamos/transformamos a una cadena de caracteres\n",
        "romeo_and_juliet = response.text"
      ],
      "id": "xyLvmYaX70sE",
      "execution_count": 9,
      "outputs": []
    },
    {
      "cell_type": "code",
      "metadata": {
        "colab": {
          "base_uri": "https://localhost:8080/"
        },
        "id": "tCX60on19YPF",
        "outputId": "08184170-63c2-4c00-ca70-28c5fffab132"
      },
      "source": [
        "print(romeo_and_juliet[:1500])"
      ],
      "id": "tCX60on19YPF",
      "execution_count": 10,
      "outputs": [
        {
          "output_type": "stream",
          "name": "stdout",
          "text": [
            "<!DOCTYPE html>\n",
            "<html class=\"client-nojs\" lang=\"en\" dir=\"ltr\">\n",
            "<head>\n",
            " <meta charset=\"UTF-8\" >\n",
            "\n",
            "<title>404 | Project Gutenberg</title>\n",
            " <link rel=\"stylesheet\" href=\"/gutenberg/style2.css?v=1.7\">\n",
            " <link rel=\"stylesheet\" href=\"/gutenberg/collapsible.css?1.3\">\n",
            " <link rel=\"stylesheet\" href=\"/gutenberg/new_nav.css?v=1.6\">\n",
            " <link rel=\"stylesheet\" href=\"/gutenberg/pg-desktop-one.css?v=1.1\">\n",
            "\n",
            " <meta name=\"viewport\" content=\"width=device-width, initial-scale=1\">\n",
            " <meta name=\"keywords\" content=\"books, ebooks, free, kindle, android, iphone, ipad\">\n",
            " <meta name=\"google-site-verification\" content=\"wucOEvSnj5kP3Ts_36OfP64laakK-1mVTg-ptrGC9io\">\n",
            " <meta name=\"alexaVerifyID\" content=\"4WNaCljsE-A82vP_ih2H_UqXZvM\">\n",
            " \n",
            " <link rel=\"copyright\" href=\"https://www.gnu.org/copyleft/fdl.html\">\n",
            " <link rel=\"icon\" type=\"image/png\" href=\"/gutenberg/favicon.ico\" sizes=\"16x16\" >\n",
            " \n",
            " <meta property=\"og:title\"        content=\"Project Gutenberg\" >\n",
            " <meta property=\"og:type\"         content=\"website\" >\n",
            " <meta property=\"og:url\"          content=\"https://www.gutenberg.org/\" >\n",
            " <meta property=\"og:description\"  content=\"Project Gutenberg is a library of free eBooks.\" >\n",
            " <meta property=\"fb:admins\"       content=\"615269807\" >\n",
            " <meta property=\"fb:app_id\"       content=\"115319388529183\" >\n",
            " <meta property=\"og:site_name\"    content=\"Project Gutenberg\" >\n",
            " <meta property=\"og:image\"        content=\"https://www.gutenberg.org/gutenberg/pg-logo-144x144.png\" >\n",
            " </head>\n",
            "<body>\n",
            "  <div class=\"container\"><!-- start body --><header>\n",
            "  <in\n"
          ]
        }
      ]
    },
    {
      "cell_type": "code",
      "source": [
        "romeo_and_juliet[:1500].split()[-30:]"
      ],
      "metadata": {
        "colab": {
          "base_uri": "https://localhost:8080/"
        },
        "id": "wXRoTGrx3mGc",
        "outputId": "8d2580d3-c60c-4fbb-d12d-e765f5caae78"
      },
      "id": "wXRoTGrx3mGc",
      "execution_count": 11,
      "outputs": [
        {
          "output_type": "execute_result",
          "data": {
            "text/plain": [
              "['library',\n",
              " 'of',\n",
              " 'free',\n",
              " 'eBooks.\"',\n",
              " '>',\n",
              " '<meta',\n",
              " 'property=\"fb:admins\"',\n",
              " 'content=\"615269807\"',\n",
              " '>',\n",
              " '<meta',\n",
              " 'property=\"fb:app_id\"',\n",
              " 'content=\"115319388529183\"',\n",
              " '>',\n",
              " '<meta',\n",
              " 'property=\"og:site_name\"',\n",
              " 'content=\"Project',\n",
              " 'Gutenberg\"',\n",
              " '>',\n",
              " '<meta',\n",
              " 'property=\"og:image\"',\n",
              " 'content=\"https://www.gutenberg.org/gutenberg/pg-logo-144x144.png\"',\n",
              " '>',\n",
              " '</head>',\n",
              " '<body>',\n",
              " '<div',\n",
              " 'class=\"container\"><!--',\n",
              " 'start',\n",
              " 'body',\n",
              " '--><header>',\n",
              " '<in']"
            ]
          },
          "metadata": {},
          "execution_count": 11
        }
      ]
    },
    {
      "cell_type": "code",
      "source": [
        "len(romeo_and_juliet.split())"
      ],
      "metadata": {
        "colab": {
          "base_uri": "https://localhost:8080/"
        },
        "id": "zFphkN8SMKKm",
        "outputId": "a0a4084a-59de-4bb4-ef19-a69a3a54e262"
      },
      "id": "zFphkN8SMKKm",
      "execution_count": 12,
      "outputs": [
        {
          "output_type": "execute_result",
          "data": {
            "text/plain": [
              "487"
            ]
          },
          "metadata": {},
          "execution_count": 12
        }
      ]
    },
    {
      "cell_type": "markdown",
      "metadata": {
        "id": "2f7362a5"
      },
      "source": [
        "### 2 JSON\n",
        "\n",
        "JavaScript Object Notation (JSON) es un formato utilizado para el intercambio de datos a través de la web. Este formato es independiente del lenguaje y utiliza convenciones que son familiares con múltiples lenguajes de programación. Entre ellos, Python.\n",
        "\n",
        "Los JSON están compuestos de cuatro tipos de datos primitivos: cadenas de caracteres, números, booleanos (true y false) y el valor nulo (null); y dos tipos de estructuras: objetos y arreglos.\n",
        "\n",
        "Python nos provee del módulo estándar [json](https://docs.python.org/3/library/json.html) que permite la manipulación y escritura de este tipo de archivos. Python toma el texto plano y los transforma en las estructuras correspondiente tomando en cuenta una [tabla](https://docs.python.org/3/library/json.html#json-to-py-table) de conversión."
      ],
      "id": "2f7362a5"
    },
    {
      "cell_type": "code",
      "metadata": {
        "id": "2f6dcb5b"
      },
      "source": [
        "import json"
      ],
      "id": "2f6dcb5b",
      "execution_count": 13,
      "outputs": []
    },
    {
      "cell_type": "code",
      "metadata": {
        "id": "9749cb34"
      },
      "source": [
        "JSON1 = '''\n",
        "{\"Image\": {\n",
        "            \"Width\":  800,\n",
        "            \"Height\": 600,\n",
        "            \"Title\":  \"View from 15th Floor\",\n",
        "            \"Thumbnail\": {\n",
        "                \"Url\": \"http://www.example.com/image/481989943\",\n",
        "                \"Height\": 125,\n",
        "                \"Width\": 100\n",
        "                },\n",
        "            \"Animated\" : false,\n",
        "            \"IDs\": [116, 943, 234, 38793]\n",
        "            }\n",
        "}\n",
        "'''"
      ],
      "id": "9749cb34",
      "execution_count": 14,
      "outputs": []
    },
    {
      "cell_type": "code",
      "metadata": {
        "id": "08835648"
      },
      "source": [
        "JSON2 = '''\n",
        "[\n",
        "      {\n",
        "       \"precision\": \"zip\",\n",
        "       \"Latitude\":  37.7668,\n",
        "       \"Longitude\": -122.3959,\n",
        "       \"Address\":   \"\",\n",
        "       \"City\":  \"SAN FRANCISCO\",\n",
        "       \"State\": \"CA\",\n",
        "       \"Zip\":   \"94107\",\n",
        "       \"Country\":   \"US\"\n",
        "      },\n",
        "      {\n",
        "       \"precision\": \"zip\",\n",
        "       \"Latitude\":  37.371991,\n",
        "       \"Longitude\": -122.026020,\n",
        "       \"Address\":   \"\",\n",
        "       \"City\":  \"SUNNYVALE\",\n",
        "       \"State\": \"CA\",\n",
        "       \"Zip\":   \"94085\",\n",
        "       \"Country\":   \"US\"\n",
        "       }\n",
        "]\n",
        "'''\n",
        "\n"
      ],
      "id": "08835648",
      "execution_count": 15,
      "outputs": []
    },
    {
      "cell_type": "code",
      "metadata": {
        "id": "1231177c"
      },
      "source": [
        "# Transformación de JSON a Objetos de Python\n",
        "data_json1 = json.loads(JSON1)\n",
        "data_json2 = json.loads(JSON2)"
      ],
      "id": "1231177c",
      "execution_count": 16,
      "outputs": []
    },
    {
      "cell_type": "code",
      "metadata": {
        "id": "3fbba9d5",
        "colab": {
          "base_uri": "https://localhost:8080/"
        },
        "outputId": "9faa3831-186b-496f-e00c-0dfef2cf120a"
      },
      "source": [
        "# Resultado de transformar JSON1\n",
        "type(data_json1)"
      ],
      "id": "3fbba9d5",
      "execution_count": 17,
      "outputs": [
        {
          "output_type": "execute_result",
          "data": {
            "text/plain": [
              "dict"
            ]
          },
          "metadata": {},
          "execution_count": 17
        }
      ]
    },
    {
      "cell_type": "code",
      "metadata": {
        "colab": {
          "base_uri": "https://localhost:8080/"
        },
        "id": "SUx--zknAyc0",
        "outputId": "e00d136b-e890-48d7-9246-e10bda95df2f"
      },
      "source": [
        "# Resultado de transformar JSON2\n",
        "type(data_json2)"
      ],
      "id": "SUx--zknAyc0",
      "execution_count": 18,
      "outputs": [
        {
          "output_type": "execute_result",
          "data": {
            "text/plain": [
              "list"
            ]
          },
          "metadata": {},
          "execution_count": 18
        }
      ]
    },
    {
      "cell_type": "code",
      "metadata": {
        "colab": {
          "base_uri": "https://localhost:8080/"
        },
        "id": "Z9SH55KsBOUd",
        "outputId": "75a21f57-0db3-4d97-e9a8-66074ddb8669"
      },
      "source": [
        "# Observemos `data_json1`\n",
        "data_json1"
      ],
      "id": "Z9SH55KsBOUd",
      "execution_count": 19,
      "outputs": [
        {
          "output_type": "execute_result",
          "data": {
            "text/plain": [
              "{'Image': {'Width': 800,\n",
              "  'Height': 600,\n",
              "  'Title': 'View from 15th Floor',\n",
              "  'Thumbnail': {'Url': 'http://www.example.com/image/481989943',\n",
              "   'Height': 125,\n",
              "   'Width': 100},\n",
              "  'Animated': False,\n",
              "  'IDs': [116, 943, 234, 38793]}}"
            ]
          },
          "metadata": {},
          "execution_count": 19
        }
      ]
    },
    {
      "cell_type": "code",
      "source": [
        "# Acceso a las `keys` de JSON\n",
        "data_json1.keys()"
      ],
      "metadata": {
        "colab": {
          "base_uri": "https://localhost:8080/"
        },
        "id": "HoWw4ECMULzD",
        "outputId": "08c542e6-d6dd-4841-96eb-ece9e845910b"
      },
      "id": "HoWw4ECMULzD",
      "execution_count": 20,
      "outputs": [
        {
          "output_type": "execute_result",
          "data": {
            "text/plain": [
              "dict_keys(['Image'])"
            ]
          },
          "metadata": {},
          "execution_count": 20
        }
      ]
    },
    {
      "cell_type": "code",
      "source": [
        "data_json1[\"Image\"][\"Thumbnail\"][\"Url\"]"
      ],
      "metadata": {
        "colab": {
          "base_uri": "https://localhost:8080/",
          "height": 35
        },
        "id": "Bc6tLXZ953QM",
        "outputId": "dcd57914-bbbc-4502-8bab-d7d53b4a5654"
      },
      "id": "Bc6tLXZ953QM",
      "execution_count": 21,
      "outputs": [
        {
          "output_type": "execute_result",
          "data": {
            "text/plain": [
              "'http://www.example.com/image/481989943'"
            ],
            "application/vnd.google.colaboratory.intrinsic+json": {
              "type": "string"
            }
          },
          "metadata": {},
          "execution_count": 21
        }
      ]
    },
    {
      "cell_type": "code",
      "source": [
        "# Acceso al `key` \"Image\"\n",
        "data_json1[\"Image\"]"
      ],
      "metadata": {
        "colab": {
          "base_uri": "https://localhost:8080/"
        },
        "id": "fUBL_NPUUa0h",
        "outputId": "64d5d4cc-4bd9-4bb7-9cef-7d2f29d7559e"
      },
      "id": "fUBL_NPUUa0h",
      "execution_count": 22,
      "outputs": [
        {
          "output_type": "execute_result",
          "data": {
            "text/plain": [
              "{'Width': 800,\n",
              " 'Height': 600,\n",
              " 'Title': 'View from 15th Floor',\n",
              " 'Thumbnail': {'Url': 'http://www.example.com/image/481989943',\n",
              "  'Height': 125,\n",
              "  'Width': 100},\n",
              " 'Animated': False,\n",
              " 'IDs': [116, 943, 234, 38793]}"
            ]
          },
          "metadata": {},
          "execution_count": 22
        }
      ]
    },
    {
      "cell_type": "code",
      "metadata": {
        "colab": {
          "base_uri": "https://localhost:8080/"
        },
        "id": "V3lRnmQy9LLK",
        "outputId": "44a569ae-91a8-445e-8b38-72f35957d0b6"
      },
      "source": [
        "# Acceso a las `keys` de JSON!\n",
        "data_json1[\"Image\"].keys()"
      ],
      "id": "V3lRnmQy9LLK",
      "execution_count": 23,
      "outputs": [
        {
          "output_type": "execute_result",
          "data": {
            "text/plain": [
              "dict_keys(['Width', 'Height', 'Title', 'Thumbnail', 'Animated', 'IDs'])"
            ]
          },
          "metadata": {},
          "execution_count": 23
        }
      ]
    },
    {
      "cell_type": "code",
      "metadata": {
        "colab": {
          "base_uri": "https://localhost:8080/",
          "height": 35
        },
        "id": "RsjSlWH_A-Ab",
        "outputId": "a741c96e-01df-472d-c0c8-c823902729b2"
      },
      "source": [
        "# Recuperación de un elemento en específico\n",
        "data_json1[\"Image\"][\"Thumbnail\"][\"Url\"]"
      ],
      "id": "RsjSlWH_A-Ab",
      "execution_count": 24,
      "outputs": [
        {
          "output_type": "execute_result",
          "data": {
            "text/plain": [
              "'http://www.example.com/image/481989943'"
            ],
            "application/vnd.google.colaboratory.intrinsic+json": {
              "type": "string"
            }
          },
          "metadata": {},
          "execution_count": 24
        }
      ]
    },
    {
      "cell_type": "code",
      "source": [
        "data_json1[\"Image\"][\"IDs\"][0]"
      ],
      "metadata": {
        "colab": {
          "base_uri": "https://localhost:8080/"
        },
        "id": "Bjo7nkN5OcQq",
        "outputId": "767d6aa3-764d-4b0e-b5cc-57c1969a9e01"
      },
      "id": "Bjo7nkN5OcQq",
      "execution_count": 25,
      "outputs": [
        {
          "output_type": "execute_result",
          "data": {
            "text/plain": [
              "116"
            ]
          },
          "metadata": {},
          "execution_count": 25
        }
      ]
    },
    {
      "cell_type": "code",
      "metadata": {
        "colab": {
          "base_uri": "https://localhost:8080/"
        },
        "id": "LRfmZaSHB9un",
        "outputId": "55702110-92f9-48ea-c001-d232de2e0a53"
      },
      "source": [
        "# Observemos `data_json2`\n",
        "data_json2"
      ],
      "id": "LRfmZaSHB9un",
      "execution_count": 26,
      "outputs": [
        {
          "output_type": "execute_result",
          "data": {
            "text/plain": [
              "[{'precision': 'zip',\n",
              "  'Latitude': 37.7668,\n",
              "  'Longitude': -122.3959,\n",
              "  'Address': '',\n",
              "  'City': 'SAN FRANCISCO',\n",
              "  'State': 'CA',\n",
              "  'Zip': '94107',\n",
              "  'Country': 'US'},\n",
              " {'precision': 'zip',\n",
              "  'Latitude': 37.371991,\n",
              "  'Longitude': -122.02602,\n",
              "  'Address': '',\n",
              "  'City': 'SUNNYVALE',\n",
              "  'State': 'CA',\n",
              "  'Zip': '94085',\n",
              "  'Country': 'US'}]"
            ]
          },
          "metadata": {},
          "execution_count": 26
        }
      ]
    },
    {
      "cell_type": "code",
      "source": [
        "for item in data_json2:\n",
        "  print(item)"
      ],
      "metadata": {
        "colab": {
          "base_uri": "https://localhost:8080/"
        },
        "id": "SyYOnvNlVhAM",
        "outputId": "202ae20e-4bce-4f39-82e4-f22a10a76c63"
      },
      "id": "SyYOnvNlVhAM",
      "execution_count": 27,
      "outputs": [
        {
          "output_type": "stream",
          "name": "stdout",
          "text": [
            "{'precision': 'zip', 'Latitude': 37.7668, 'Longitude': -122.3959, 'Address': '', 'City': 'SAN FRANCISCO', 'State': 'CA', 'Zip': '94107', 'Country': 'US'}\n",
            "{'precision': 'zip', 'Latitude': 37.371991, 'Longitude': -122.02602, 'Address': '', 'City': 'SUNNYVALE', 'State': 'CA', 'Zip': '94085', 'Country': 'US'}\n"
          ]
        }
      ]
    },
    {
      "cell_type": "code",
      "metadata": {
        "colab": {
          "base_uri": "https://localhost:8080/"
        },
        "id": "LTS0g-SrCAlA",
        "outputId": "eb50f1d9-3785-4c49-c925-84c1d0871e00"
      },
      "source": [
        "# Iteremos sobre cada elemento para acceder a su información\n",
        "for item in data_json2:\n",
        "  print(\"Coordenadas:\",item[\"Latitude\"], item[\"Longitude\"])"
      ],
      "id": "LTS0g-SrCAlA",
      "execution_count": 28,
      "outputs": [
        {
          "output_type": "stream",
          "name": "stdout",
          "text": [
            "Coordenadas: 37.7668 -122.3959\n",
            "Coordenadas: 37.371991 -122.02602\n"
          ]
        }
      ]
    },
    {
      "cell_type": "code",
      "source": [
        "# Iteremos sobre cada elemento para acceder a su \"City\"\n",
        "for item in data_json2:\n",
        "  print(\"city:\", item[\"City\"])"
      ],
      "metadata": {
        "colab": {
          "base_uri": "https://localhost:8080/"
        },
        "id": "hVOrgDdOWAzg",
        "outputId": "20e23278-1eb4-4d01-dcd6-2f9a94767e12"
      },
      "id": "hVOrgDdOWAzg",
      "execution_count": 29,
      "outputs": [
        {
          "output_type": "stream",
          "name": "stdout",
          "text": [
            "city: SAN FRANCISCO\n",
            "city: SUNNYVALE\n"
          ]
        }
      ]
    },
    {
      "cell_type": "markdown",
      "metadata": {
        "id": "079f2015"
      },
      "source": [
        "## 3 Uso de APIs\n",
        "\n",
        "Las Application Programming Interfaces (APIs) permiten servir como lingua franca entre diferentes elementos de software que interactuan entre sí. Estas establecen un conjunto de servicios que están disponibles para el uso de otras aplicaciones, así como las reglas que deben seguirse para acceder a estos recursos.\n",
        "\n",
        "A continuación se proveen un conjunto de recursos para entender cómo funcionan las API:\n",
        "* ¿Qué es una API? por BBVA ([Infografía](https://www.bbvaapimarket.com/es/mundo-api/infografia-que-es-una-api/)).\n",
        "* ¿Qué es una API? por CódigoFacilito ([Video](https://www.youtube.com/watch?v=OqZbg1OIPBE)).\n",
        "\n",
        "En resumen, las APIs establecen un conjunto de servicios que están disponibles para el uso de otras aplicaciones, y las reglas que deben seguirse para acceder a ellos. Un tipo específicos de APIs son las basadas en web o web-based APIs, las cuales utilizan servicios web para el intercambio de información. Consideremos que se desea acceder a un conjunto de datos específicos a través de una web-based API. Comúnmente, el programa hará una petición a la API via HTTP indicando la información que se desea obtener. La API devolverá los datos en formatos estándar como JSON.\n",
        "\n",
        "Considera las siguientes APIs:\n",
        "* [Open API](http://open-notify.org). Esta API nos brinda información sobre la Estación Espacial Internacional.\n",
        "* [Sunrise Sunset](https://sunrise-sunset.org/api). Esta API nos brinda información sobre la hora de salida y puesta del Sol.\n",
        "\n",
        "\n",
        "### 3.1 Posición de la ISS\n",
        "\n",
        "La posición de la Estación Espacial Internacional puede accederse mediante la siguiente [endpoint](http://open-notify.org/Open-Notify-API/ISS-Location-Now/). Observa que la documentación describe cómo acceder a los datos.\n"
      ],
      "id": "079f2015"
    },
    {
      "cell_type": "code",
      "metadata": {
        "id": "a7d18c55"
      },
      "source": [
        "import requests"
      ],
      "id": "a7d18c55",
      "execution_count": 30,
      "outputs": []
    },
    {
      "cell_type": "code",
      "metadata": {
        "id": "393def13"
      },
      "source": [
        "# Acceso a la Posición (abrir URL)\n",
        "url = \"http://api.open-notify.org/iss-now.json\"\n",
        "results = requests.get(url)"
      ],
      "id": "393def13",
      "execution_count": 31,
      "outputs": []
    },
    {
      "cell_type": "code",
      "metadata": {
        "colab": {
          "base_uri": "https://localhost:8080/",
          "height": 35
        },
        "id": "WK31fwEff9Tj",
        "outputId": "ab50a06f-655e-4689-e932-c95a52d423ff"
      },
      "source": [
        "results.text"
      ],
      "id": "WK31fwEff9Tj",
      "execution_count": 32,
      "outputs": [
        {
          "output_type": "execute_result",
          "data": {
            "text/plain": [
              "'{\"timestamp\": 1759358261, \"message\": \"success\", \"iss_position\": {\"longitude\": \"114.3987\", \"latitude\": \"-34.6614\"}}'"
            ],
            "application/vnd.google.colaboratory.intrinsic+json": {
              "type": "string"
            }
          },
          "metadata": {},
          "execution_count": 32
        }
      ]
    },
    {
      "cell_type": "code",
      "source": [
        "# Alternativa 1\n",
        "data = json.loads(results.text)\n",
        "data"
      ],
      "metadata": {
        "colab": {
          "base_uri": "https://localhost:8080/"
        },
        "id": "9NXShJZbe51X",
        "outputId": "a4051e5b-3ee2-4d8c-ae10-ee9505f2d4fb"
      },
      "id": "9NXShJZbe51X",
      "execution_count": 33,
      "outputs": [
        {
          "output_type": "execute_result",
          "data": {
            "text/plain": [
              "{'timestamp': 1759358261,\n",
              " 'message': 'success',\n",
              " 'iss_position': {'longitude': '114.3987', 'latitude': '-34.6614'}}"
            ]
          },
          "metadata": {},
          "execution_count": 33
        }
      ]
    },
    {
      "cell_type": "code",
      "metadata": {
        "colab": {
          "base_uri": "https://localhost:8080/"
        },
        "id": "ktMC0L_RDiQA",
        "outputId": "032bcb27-0325-48c2-ce6a-2b835c150378"
      },
      "source": [
        "# Alternativa 2\n",
        "data = results.json()\n",
        "data"
      ],
      "id": "ktMC0L_RDiQA",
      "execution_count": 34,
      "outputs": [
        {
          "output_type": "execute_result",
          "data": {
            "text/plain": [
              "{'timestamp': 1759358261,\n",
              " 'message': 'success',\n",
              " 'iss_position': {'longitude': '114.3987', 'latitude': '-34.6614'}}"
            ]
          },
          "metadata": {},
          "execution_count": 34
        }
      ]
    },
    {
      "cell_type": "code",
      "metadata": {
        "id": "fnyPUii2DjXs"
      },
      "source": [
        "# Accedamos a su latitud y longitud\n",
        "lat = data[\"iss_position\"][\"latitude\"]\n",
        "lon = data[\"iss_position\"][\"longitude\"]"
      ],
      "id": "fnyPUii2DjXs",
      "execution_count": 35,
      "outputs": []
    },
    {
      "cell_type": "code",
      "metadata": {
        "colab": {
          "base_uri": "https://localhost:8080/"
        },
        "id": "YsK9967LD57A",
        "outputId": "01300ea0-79f6-4c87-926e-78a0b7439aa6"
      },
      "source": [
        "print(f\"lat:  {lat}\")\n",
        "print(f\"lon:  {lon}\")"
      ],
      "id": "YsK9967LD57A",
      "execution_count": 36,
      "outputs": [
        {
          "output_type": "stream",
          "name": "stdout",
          "text": [
            "lat:  -34.6614\n",
            "lon:  114.3987\n"
          ]
        }
      ]
    },
    {
      "cell_type": "markdown",
      "source": [
        "### 3.2 Personas en el espacio\n",
        "\n",
        "La información de las personas en el espacio puede accederse mediante el siguiente [endpoint](http://open-notify.org/Open-Notify-API/People-In-Space/). Observa que la documentación describe cómo acceder a los datos."
      ],
      "metadata": {
        "id": "n-925p7mfnao"
      },
      "id": "n-925p7mfnao"
    },
    {
      "cell_type": "code",
      "metadata": {
        "id": "TS6eLZ5MD86d"
      },
      "source": [
        "# URL\n",
        "url = \"http://api.open-notify.org/astros.json\"\n",
        "\n",
        "# Petición de los Datos\n",
        "results = requests.get(url)\n",
        "\n",
        "# Datos\n",
        "data = results.json()"
      ],
      "id": "TS6eLZ5MD86d",
      "execution_count": 38,
      "outputs": []
    },
    {
      "cell_type": "code",
      "metadata": {
        "colab": {
          "base_uri": "https://localhost:8080/"
        },
        "id": "2ej39UCCEbuJ",
        "outputId": "144730ae-5ac6-447b-ff6d-f3f399323e2f"
      },
      "source": [
        "data"
      ],
      "id": "2ej39UCCEbuJ",
      "execution_count": 39,
      "outputs": [
        {
          "output_type": "execute_result",
          "data": {
            "text/plain": [
              "{'people': [{'craft': 'ISS', 'name': 'Oleg Kononenko'},\n",
              "  {'craft': 'ISS', 'name': 'Nikolai Chub'},\n",
              "  {'craft': 'ISS', 'name': 'Tracy Caldwell Dyson'},\n",
              "  {'craft': 'ISS', 'name': 'Matthew Dominick'},\n",
              "  {'craft': 'ISS', 'name': 'Michael Barratt'},\n",
              "  {'craft': 'ISS', 'name': 'Jeanette Epps'},\n",
              "  {'craft': 'ISS', 'name': 'Alexander Grebenkin'},\n",
              "  {'craft': 'ISS', 'name': 'Butch Wilmore'},\n",
              "  {'craft': 'ISS', 'name': 'Sunita Williams'},\n",
              "  {'craft': 'Tiangong', 'name': 'Li Guangsu'},\n",
              "  {'craft': 'Tiangong', 'name': 'Li Cong'},\n",
              "  {'craft': 'Tiangong', 'name': 'Ye Guangfu'}],\n",
              " 'number': 12,\n",
              " 'message': 'success'}"
            ]
          },
          "metadata": {},
          "execution_count": 39
        }
      ]
    },
    {
      "cell_type": "code",
      "source": [
        "data[\"number\"]"
      ],
      "metadata": {
        "colab": {
          "base_uri": "https://localhost:8080/"
        },
        "id": "O1u31e24gG_K",
        "outputId": "b3e84967-2e01-479d-f035-68591e121497"
      },
      "id": "O1u31e24gG_K",
      "execution_count": 40,
      "outputs": [
        {
          "output_type": "execute_result",
          "data": {
            "text/plain": [
              "12"
            ]
          },
          "metadata": {},
          "execution_count": 40
        }
      ]
    },
    {
      "cell_type": "code",
      "metadata": {
        "colab": {
          "base_uri": "https://localhost:8080/"
        },
        "id": "mWbRNECyEb6L",
        "outputId": "aaae3118-f770-4057-a4d2-10a146068340"
      },
      "source": [
        "# Accedamos al nombre de cada astronauta\n",
        "for astronaut_data in data[\"people\"]:\n",
        "  print(astronaut_data[\"name\"])"
      ],
      "id": "mWbRNECyEb6L",
      "execution_count": 41,
      "outputs": [
        {
          "output_type": "stream",
          "name": "stdout",
          "text": [
            "Oleg Kononenko\n",
            "Nikolai Chub\n",
            "Tracy Caldwell Dyson\n",
            "Matthew Dominick\n",
            "Michael Barratt\n",
            "Jeanette Epps\n",
            "Alexander Grebenkin\n",
            "Butch Wilmore\n",
            "Sunita Williams\n",
            "Li Guangsu\n",
            "Li Cong\n",
            "Ye Guangfu\n"
          ]
        }
      ]
    },
    {
      "cell_type": "markdown",
      "source": [
        "### 3.3 Uso de Parámetros\n",
        "\n",
        "La API Sunrise-Sunset provee los tiempos de salida y puesta del sol dada la latitud, longitud y fecha. La documentación de la misma se encuentra en el siguiente [enlace](https://sunrise-sunset.org/api).\n",
        "\n",
        "Observa con detenimiento, la manera en que se estructura la URL y cómo se proporcionan los datos."
      ],
      "metadata": {
        "id": "iGwqibfJgWwq"
      },
      "id": "iGwqibfJgWwq"
    },
    {
      "cell_type": "code",
      "source": [
        "# URL (ver documentación)\n",
        "url = \"https://api.sunrise-sunset.org/json\""
      ],
      "metadata": {
        "id": "qEwVROgbgDsy"
      },
      "id": "qEwVROgbgDsy",
      "execution_count": 47,
      "outputs": []
    },
    {
      "cell_type": "code",
      "source": [
        "# Parámetros\n",
        "params = {'lat' : \"20.9888\",\n",
        "          'lng' : \"-89.7373\",\n",
        "          'date': \"2023-09-11\"}"
      ],
      "metadata": {
        "id": "gM5-9lRGgnW7"
      },
      "id": "gM5-9lRGgnW7",
      "execution_count": 48,
      "outputs": []
    },
    {
      "cell_type": "code",
      "source": [
        "# Petición de Información\n",
        "response = requests.get(url, params=params)"
      ],
      "metadata": {
        "id": "HbDF4MwKhYZY"
      },
      "id": "HbDF4MwKhYZY",
      "execution_count": 49,
      "outputs": []
    },
    {
      "cell_type": "code",
      "source": [
        "# Accedo a la URL de la petición\n",
        "response.url"
      ],
      "metadata": {
        "colab": {
          "base_uri": "https://localhost:8080/",
          "height": 35
        },
        "id": "blFWST5zis18",
        "outputId": "99dba1f0-48d5-4ffb-a687-f9994285696a"
      },
      "id": "blFWST5zis18",
      "execution_count": 50,
      "outputs": [
        {
          "output_type": "execute_result",
          "data": {
            "text/plain": [
              "'https://api.sunrise-sunset.org/json?lat=20.9888&lng=-89.7373&date=2023-09-11'"
            ],
            "application/vnd.google.colaboratory.intrinsic+json": {
              "type": "string"
            }
          },
          "metadata": {},
          "execution_count": 50
        }
      ]
    },
    {
      "cell_type": "code",
      "source": [
        "# Datos obtenidos\n",
        "data = response.json()\n",
        "data"
      ],
      "metadata": {
        "colab": {
          "base_uri": "https://localhost:8080/"
        },
        "id": "dZae1mYAha5s",
        "outputId": "7beb4b5a-d52f-4205-9058-4b981c401644"
      },
      "id": "dZae1mYAha5s",
      "execution_count": 51,
      "outputs": [
        {
          "output_type": "execute_result",
          "data": {
            "text/plain": [
              "{'results': {'sunrise': '11:44:00 AM',\n",
              "  'sunset': '12:07:08 AM',\n",
              "  'solar_noon': '5:55:34 PM',\n",
              "  'day_length': '12:23:08',\n",
              "  'civil_twilight_begin': '11:22:53 AM',\n",
              "  'civil_twilight_end': '12:28:16 AM',\n",
              "  'nautical_twilight_begin': '10:56:54 AM',\n",
              "  'nautical_twilight_end': '12:54:14 AM',\n",
              "  'astronomical_twilight_begin': '10:30:43 AM',\n",
              "  'astronomical_twilight_end': '1:20:25 AM'},\n",
              " 'status': 'OK',\n",
              " 'tzid': 'UTC'}"
            ]
          },
          "metadata": {},
          "execution_count": 51
        }
      ]
    }
  ]
}