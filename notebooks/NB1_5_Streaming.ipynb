{
  "cells": [
    {
      "cell_type": "markdown",
      "metadata": {
        "id": "EMfNx0EKOHJx"
      },
      "source": [
        "# NB1.5 — Streaming vs Batch (WebSockets & Polling)\n",
        "\n",
        "En esta práctica implementamos **Streaming** con WebSockets y **Batch frecuente** con HTTP Polling. Guardaremos todo en **JSON Lines** en `../../data/` y compararemos latencia y continuidad.\n",
        "\n",
        "**Objetivos**\n",
        "- Entender diferencias clave **Batch vs Streaming**.\n",
        "- Ejecutar un cliente **WebSocket** para ingesta continua.\n",
        "- Ejecutar **HTTP Polling** como micro-batch.\n",
        "- Comparar resultados en pandas.\n"
      ],
      "id": "EMfNx0EKOHJx"
    },
    {
      "cell_type": "markdown",
      "metadata": {
        "id": "-1yEzhHVOHJ3"
      },
      "source": [
        "## 1) Dependencias\n",
        "Instalamos librerías requeridas para los scripts en `src/streaming/`."
      ],
      "id": "-1yEzhHVOHJ3"
    },
    {
      "cell_type": "code",
      "execution_count": 1,
      "metadata": {
        "id": "deps"
      },
      "outputs": [],
      "source": [
        "!pip install -q websockets requests pandas"
      ],
      "id": "deps"
    },
    {
      "cell_type": "markdown",
      "metadata": {
        "id": "Ep8ZeRB9OHJ7"
      },
      "source": [
        "## 2) Streaming (WebSocket)\n",
        "\n",
        "**Salida:** `../../data/stream_ws_YYYY-MM-DD.jsonl`"
      ],
      "id": "Ep8ZeRB9OHJ7"
    },
    {
      "cell_type": "code",
      "execution_count": 2,
      "metadata": {
        "id": "stream",
        "colab": {
          "base_uri": "https://localhost:8080/"
        },
        "outputId": "19c1e2ec-daae-4fea-8672-d394aaaa4bf1"
      },
      "outputs": [
        {
          "output_type": "stream",
          "name": "stdout",
          "text": [
            "python3: can't open file '/content/../../src/streaming/stream_dual_ws.py': [Errno 2] No such file or directory\n"
          ]
        }
      ],
      "source": [
        "# Limita duración/eventos para la clase\n",
        "!WS_MAX_EVENTS=150 WS_MAX_SECONDS=120 python ../../src/streaming/stream_dual_ws.py"
      ],
      "id": "stream"
    },
    {
      "cell_type": "markdown",
      "metadata": {
        "id": "03itdA_0OHJ9"
      },
      "source": [
        "## 3) Polling (HTTP)\n",
        "\n",
        "**Salida:** `../../data/poll_bitcoin_YYYY-MM-DD.jsonl`"
      ],
      "id": "03itdA_0OHJ9"
    },
    {
      "cell_type": "code",
      "execution_count": 3,
      "metadata": {
        "id": "poll",
        "colab": {
          "base_uri": "https://localhost:8080/"
        },
        "outputId": "59ae87cf-a758-46b7-f9d3-0037ae7285ad"
      },
      "outputs": [
        {
          "output_type": "stream",
          "name": "stdout",
          "text": [
            "python3: can't open file '/content/../../src/streaming/poll_coincap_http.py': [Errno 2] No such file or directory\n"
          ]
        }
      ],
      "source": [
        "!python ../../src/streaming/poll_coincap_http.py"
      ],
      "id": "poll"
    },
    {
      "cell_type": "markdown",
      "metadata": {
        "id": "tbVNmMWkOHJ-"
      },
      "source": [
        "## 4) Cargar y comparar en pandas\n",
        "Leemos ambos `.jsonl` y observamos diferencias de granularidad/latencia (aprox.)."
      ],
      "id": "tbVNmMWkOHJ-"
    },
    {
      "cell_type": "code",
      "execution_count": 9,
      "metadata": {
        "id": "compare",
        "colab": {
          "base_uri": "https://localhost:8080/"
        },
        "outputId": "af19f78e-a4bc-4ade-a68c-914e1223feee"
      },
      "outputs": [
        {
          "output_type": "stream",
          "name": "stdout",
          "text": [
            "No se encontraron archivos de stream\n",
            "No se encontraron archivos de poll\n"
          ]
        }
      ],
      "source": [
        "from pathlib import Path\n",
        "import pandas as pd\n",
        "\n",
        "data_dir = Path(\"../../data\")\n",
        "\n",
        "# Buscar archivos\n",
        "stream_files = sorted(data_dir.glob(\"stream_ws_*.jsonl\"))\n",
        "if not stream_files:\n",
        "    print(\"No se encontraron archivos de stream\")\n",
        "else:\n",
        "    stream_file = stream_files[-1]\n",
        "    df_stream = pd.read_json(stream_file, lines=True)\n",
        "    print(\"STREAM:\", stream_file)\n",
        "    display(df_stream.head())\n",
        "\n",
        "# POLL\n",
        "poll_files = sorted(list(data_dir.glob(\"poll_binance_*.jsonl\")) + list(data_dir.glob(\"poll_coincap_*.jsonl\")))\n",
        "if not poll_files:\n",
        "    print(\"No se encontraron archivos de poll\")\n",
        "else:\n",
        "    poll_file = poll_files[-1]\n",
        "    df_poll = pd.read_json(poll_file, lines=True)\n",
        "    print(\"POLL:\", poll_file)\n",
        "    display(df_poll.head())\n",
        "\n"
      ],
      "id": "compare"
    },
    {
      "cell_type": "markdown",
      "metadata": {
        "id": "6xoqDKnZOHKC"
      },
      "source": [
        "## 5) Reflexión (respuestas cortas)\n",
        "**¿Quién tiene menor latencia?**  Stream: entrega los datos en tiempo real o casi inmediato, por lo que la latencia es mucho menor que polling.\n",
        "\n",
        "**¿Qué pasa si el stream se cae?**\n",
        "Se pierden los datos que se generan mientras el stream está caído, a menos que haya un mecanismo de reintento o buffering.\n",
        "\n",
        "**¿Cuál genera más duplicados o huecos temporales?**\n",
        "Polling: puede generar duplicados si se consulta demasiado seguido o huecos si se consulta con retraso, porque no recibe los datos de manera continua como el stream."
      ],
      "id": "6xoqDKnZOHKC"
    },
    {
      "cell_type": "markdown",
      "id": "6e28e336",
      "metadata": {
        "id": "6e28e336"
      },
      "source": []
    }
  ],
  "metadata": {
    "kernelspec": {
      "display_name": "fundamentos-ingenieria-datos",
      "language": "python",
      "name": "python3"
    },
    "language_info": {
      "codemirror_mode": {
        "name": "ipython",
        "version": 3
      },
      "file_extension": ".py",
      "mimetype": "text/x-python",
      "name": "python",
      "nbconvert_exporter": "python",
      "pygments_lexer": "ipython3",
      "version": "3.13.7"
    },
    "colab": {
      "provenance": []
    }
  },
  "nbformat": 4,
  "nbformat_minor": 5
}